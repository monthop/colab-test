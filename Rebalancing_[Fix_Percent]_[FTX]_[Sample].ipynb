{
  "nbformat": 4,
  "nbformat_minor": 0,
  "metadata": {
    "colab": {
      "name": "Rebalancing [Fix Percent] [FTX] [Sample]",
      "provenance": [],
      "collapsed_sections": []
    },
    "kernelspec": {
      "name": "python3",
      "display_name": "Python 3"
    }
  },
  "cells": [
    {
      "cell_type": "code",
      "metadata": {
        "id": "p4AHtwl0D1Ah",
        "colab": {
          "base_uri": "https://localhost:8080/"
        },
        "outputId": "80867610-41ae-4457-98ce-e7b19855fcbf"
      },
      "source": [
        "!pip install ccxt\n",
        "!pip install pandas\n",
        "# cr:\n",
        "# พี่ต้าน Mudley\n",
        "# กลุ่ม กองทุนความมั่งคั่งแห่งชาติ\n",
        "# B2 Spetsnaz Club"
      ],
      "execution_count": null,
      "outputs": [
        {
          "output_type": "stream",
          "text": [
            "Requirement already satisfied: ccxt in /usr/local/lib/python3.7/dist-packages (1.49.80)\n",
            "Requirement already satisfied: setuptools>=38.5.1 in /usr/local/lib/python3.7/dist-packages (from ccxt) (56.1.0)\n",
            "Requirement already satisfied: aiodns<2.1,>=1.1.1; python_version >= \"3.5.2\" in /usr/local/lib/python3.7/dist-packages (from ccxt) (2.0.0)\n",
            "Requirement already satisfied: yarl==1.6.3; python_version >= \"3.5.2\" in /usr/local/lib/python3.7/dist-packages (from ccxt) (1.6.3)\n",
            "Requirement already satisfied: cryptography>=2.6.1 in /usr/local/lib/python3.7/dist-packages (from ccxt) (3.4.7)\n",
            "Requirement already satisfied: aiohttp<3.8,>=3.7.4; python_version >= \"3.5.2\" in /usr/local/lib/python3.7/dist-packages (from ccxt) (3.7.4.post0)\n",
            "Requirement already satisfied: certifi>=2018.1.18 in /usr/local/lib/python3.7/dist-packages (from ccxt) (2020.12.5)\n",
            "Requirement already satisfied: requests>=2.18.4 in /usr/local/lib/python3.7/dist-packages (from ccxt) (2.23.0)\n",
            "Requirement already satisfied: pycares>=3.0.0 in /usr/local/lib/python3.7/dist-packages (from aiodns<2.1,>=1.1.1; python_version >= \"3.5.2\"->ccxt) (3.1.1)\n",
            "Requirement already satisfied: multidict>=4.0 in /usr/local/lib/python3.7/dist-packages (from yarl==1.6.3; python_version >= \"3.5.2\"->ccxt) (5.1.0)\n",
            "Requirement already satisfied: idna>=2.0 in /usr/local/lib/python3.7/dist-packages (from yarl==1.6.3; python_version >= \"3.5.2\"->ccxt) (2.10)\n",
            "Requirement already satisfied: typing-extensions>=3.7.4; python_version < \"3.8\" in /usr/local/lib/python3.7/dist-packages (from yarl==1.6.3; python_version >= \"3.5.2\"->ccxt) (3.7.4.3)\n",
            "Requirement already satisfied: cffi>=1.12 in /usr/local/lib/python3.7/dist-packages (from cryptography>=2.6.1->ccxt) (1.14.5)\n",
            "Requirement already satisfied: async-timeout<4.0,>=3.0 in /usr/local/lib/python3.7/dist-packages (from aiohttp<3.8,>=3.7.4; python_version >= \"3.5.2\"->ccxt) (3.0.1)\n",
            "Requirement already satisfied: chardet<5.0,>=2.0 in /usr/local/lib/python3.7/dist-packages (from aiohttp<3.8,>=3.7.4; python_version >= \"3.5.2\"->ccxt) (3.0.4)\n",
            "Requirement already satisfied: attrs>=17.3.0 in /usr/local/lib/python3.7/dist-packages (from aiohttp<3.8,>=3.7.4; python_version >= \"3.5.2\"->ccxt) (20.3.0)\n",
            "Requirement already satisfied: urllib3!=1.25.0,!=1.25.1,<1.26,>=1.21.1 in /usr/local/lib/python3.7/dist-packages (from requests>=2.18.4->ccxt) (1.24.3)\n",
            "Requirement already satisfied: pycparser in /usr/local/lib/python3.7/dist-packages (from cffi>=1.12->cryptography>=2.6.1->ccxt) (2.20)\n",
            "Requirement already satisfied: pandas in /usr/local/lib/python3.7/dist-packages (1.1.5)\n",
            "Requirement already satisfied: python-dateutil>=2.7.3 in /usr/local/lib/python3.7/dist-packages (from pandas) (2.8.1)\n",
            "Requirement already satisfied: numpy>=1.15.4 in /usr/local/lib/python3.7/dist-packages (from pandas) (1.19.5)\n",
            "Requirement already satisfied: pytz>=2017.2 in /usr/local/lib/python3.7/dist-packages (from pandas) (2018.9)\n",
            "Requirement already satisfied: six>=1.5 in /usr/local/lib/python3.7/dist-packages (from python-dateutil>=2.7.3->pandas) (1.15.0)\n"
          ],
          "name": "stdout"
        }
      ]
    },
    {
      "cell_type": "code",
      "metadata": {
        "id": "TrVxjWAy8fMe",
        "colab": {
          "base_uri": "https://localhost:8080/"
        },
        "outputId": "c5632e06-8066-4f7a-feb7-3e965d8db4bc"
      },
      "source": [
        "## Login \n",
        "\n",
        "import ccxt\n",
        "# เปลี่ยน API เปลียน ข้อมูลกันด้วยนะครับ\n",
        "apiKey    = \"QCRmk7hfi_WGcn4_K9_TG2OlMtu87x2dLQBBvDWE\" \n",
        "secret    = \"KhdBMjLE_MHY1_YcNaYxaEwBM72xWE9Zfb3H7O1e\" \n",
        "password  = \"\" \n",
        "Account_name  = \"FTT\" \n",
        "\n",
        "\n",
        "exchange = ccxt.ftx  ({'apiKey' : apiKey ,'secret' : secret ,'password' : password ,'enableRateLimit': True})\n",
        "# Sub Account Check\n",
        "if Account_name == \"\" :\n",
        "  print(\"\\n\"\"Account Name - This is Main Account\",': Broker - ',exchange)     \n",
        "else:\n",
        "  print( \"\\n\"'Account Name - ',Account_name,': Broker - ',exchange)\n",
        "  exchange.headers = {'ftx-SUBACCOUNT': Account_name,}\n"
      ],
      "execution_count": null,
      "outputs": [
        {
          "output_type": "stream",
          "text": [
            "\n",
            "Account Name -  FTT : Broker -  FTX\n"
          ],
          "name": "stdout"
        }
      ]
    },
    {
      "cell_type": "code",
      "metadata": {
        "id": "UBR9N1bbObwm",
        "colab": {
          "base_uri": "https://localhost:8080/"
        },
        "outputId": "4ec400e4-fef5-4747-c85c-33b6d752b986"
      },
      "source": [
        "# ดูในพอร์ท ว่ามีเงินเท่าไร\n",
        "import pandas as pd\n",
        "Get_balance = exchange.fetch_balance()\n",
        "print(pd.DataFrame(Get_balance))"
      ],
      "execution_count": null,
      "outputs": [
        {
          "output_type": "stream",
          "text": [
            "                                                      info  ...        total\n",
            "success                                               True  ...          NaN\n",
            "result   [{'coin': 'USD', 'total': '1955.73749563', 'fr...  ...          NaN\n",
            "free                                                   NaN  ...          NaN\n",
            "used                                                   NaN  ...          NaN\n",
            "total                                                  NaN  ...          NaN\n",
            "USD                                                    NaN  ...  1955.737496\n",
            "FTT                                                    NaN  ...    32.514523\n",
            "\n",
            "[7 rows x 6 columns]\n"
          ],
          "name": "stdout"
        }
      ]
    },
    {
      "cell_type": "code",
      "metadata": {
        "id": "UPgcOiRES_Ja",
        "colab": {
          "base_uri": "https://localhost:8080/"
        },
        "outputId": "bc1e97ff-28e8-4ae8-d343-37b1e06fb3d9"
      },
      "source": [
        "# ดูในพอร์ท ว่ามีเงินเท่าไร\n",
        "Asset_01 = Get_balance ['FTT'] ['total']\n",
        "Asset_02 = Get_balance ['USD'] ['total']\n",
        "print(\"Asset 01 = \" , Asset_01,\"FTT\")\n",
        "print(\"Asset 02 = \" , Asset_02,\"USD\")"
      ],
      "execution_count": null,
      "outputs": [
        {
          "output_type": "stream",
          "text": [
            "Asset 01 =  32.5145226 FTT\n",
            "Asset 02 =  1955.73749563 USD\n"
          ],
          "name": "stdout"
        }
      ]
    },
    {
      "cell_type": "code",
      "metadata": {
        "colab": {
          "base_uri": "https://localhost:8080/"
        },
        "id": "wryaKvv9TLwF",
        "outputId": "91c502b4-7548-44d4-9388-86b185741b49"
      },
      "source": [
        "# เรียกดูราคา สินทรัพย์ ที่เราเทรด เพื่อหา มูลค่า\n",
        "get_price     = exchange.fetch_ticker('FTT/USD') \n",
        "print(get_price)\n",
        "Average_price = (get_price ['bid'] + get_price ['ask'] ) / 2\n",
        "print(\"Average_price = \" ,Average_price)\n"
      ],
      "execution_count": null,
      "outputs": [
        {
          "output_type": "stream",
          "text": [
            "{'symbol': 'FTT/USD', 'timestamp': 1620720095009, 'datetime': '2021-05-11T08:01:35.009Z', 'high': None, 'low': None, 'bid': 59.733, 'bidVolume': None, 'ask': 59.771, 'askVolume': None, 'vwap': None, 'open': None, 'close': 59.738, 'last': 59.738, 'previousClose': None, 'change': None, 'percentage': -0.046510885526399794, 'average': None, 'baseVolume': None, 'quoteVolume': 72185702.1566, 'info': {'name': 'FTT/USD', 'enabled': True, 'postOnly': False, 'priceIncrement': '0.001', 'sizeIncrement': '0.1', 'minProvideSize': '0.1', 'last': '59.738', 'bid': '59.733', 'ask': '59.771', 'price': '59.738', 'type': 'spot', 'baseCurrency': 'FTT', 'quoteCurrency': 'USD', 'underlying': None, 'restricted': False, 'highLeverageFeeExempt': True, 'change1h': '0.004945831370701837', 'change24h': '-0.046510885526399794', 'changeBod': '0.013952067350125602', 'quoteVolume24h': '72185702.1566', 'volumeUsd24h': '72185702.1566'}}\n",
            "Average_price =  59.751999999999995\n"
          ],
          "name": "stdout"
        }
      ]
    },
    {
      "cell_type": "code",
      "metadata": {
        "colab": {
          "base_uri": "https://localhost:8080/"
        },
        "id": "79gLuGupTfH0",
        "outputId": "c8406512-5691-464b-a772-6bbbd49a99b6"
      },
      "source": [
        "# มูลค่า ของ Asset\n",
        "Asset_01_Value = Asset_01 * Average_price\n",
        "print(\"Asset_01_Value = \" ,Asset_01_Value)"
      ],
      "execution_count": null,
      "outputs": [
        {
          "output_type": "stream",
          "text": [
            "Asset_01_Value =  1942.8077543951997\n"
          ],
          "name": "stdout"
        }
      ]
    },
    {
      "cell_type": "code",
      "metadata": {
        "id": "F6w1gLGDUDro",
        "colab": {
          "base_uri": "https://localhost:8080/"
        },
        "outputId": "5775ce34-5206-487d-f7fe-fd037044c18a"
      },
      "source": [
        "# เปรียบเทียบ และ ตัดสินใจเทรด\n",
        "\n",
        "Rebalance_mark = 2000\n",
        "Rebalance_percent = 1\n",
        "\n",
        "#    Asset_01_Value > (2000           + (2000          *   1             /100) ) :      \n",
        "if   Asset_01_Value > (Rebalance_mark + (Rebalance_mark*Rebalance_percent/100) ) :\n",
        "  print(\"Asset_01_Value \",Asset_01_Value ,\">\", (Rebalance_mark + (Rebalance_mark*Rebalance_percent/100) ))\n",
        "  print(\"SELL\")\n",
        "  diff_sell  = Asset_01_Value - Rebalance_mark\n",
        "  print(diff_sell)\n",
        "  #exchange.create_order('FTT/USD' ,'market','sell',(diff_sell/Average_price)) ## กำหนดเป็น Unit USD/Price\n",
        "\n",
        "elif Asset_01_Value < (Rebalance_mark - (Rebalance_mark*Rebalance_percent/100) ) :\n",
        "  print(\"Asset_01_Value \",Asset_01_Value ,\"<\", (Rebalance_mark - (Rebalance_mark*Rebalance_percent/100) ))\n",
        "  print(\"Buy\")\n",
        "  diff_buy  = Rebalance_mark - Asset_01_Value\n",
        "  print(diff_buy)\n",
        "  #exchange.create_order('FTT/USD' ,'market','buy',(diff_buy/Average_price))\n",
        "  \n",
        "else :\n",
        "  print(\"None Trade\")"
      ],
      "execution_count": null,
      "outputs": [
        {
          "output_type": "stream",
          "text": [
            "Asset_01_Value  1942.8077543951997 < 1980.0\n",
            "Buy\n",
            "57.19224560480029\n"
          ],
          "name": "stdout"
        }
      ]
    },
    {
      "cell_type": "code",
      "metadata": {
        "id": "dvEMHhrTMivQ",
        "colab": {
          "base_uri": "https://localhost:8080/",
          "height": 562
        },
        "outputId": "82a7dab2-5e13-4d13-ee97-db148fd014b4"
      },
      "source": [
        "import ccxt\n",
        "\n",
        "while True:\n",
        "  # เปลี่ยน API เปลียน ข้อมูลกันด้วยนะครับ\n",
        "  apiKey = \"QCRmk7hfi_WGcn4_K9_TG2OlMtu87x2dLQBBvDWE\" #@param {type:\"string\"}\n",
        "  secret = \"KhdBMjLE_MHY1_YcNaYxaEwBM72xWE9Zfb3H7O1e\" #@param {type:\"string\"}\n",
        "  password = \"\"                   #@param {type:\"string\"}\n",
        "  Account_name  = \"FTT\"           #@param {type:\"string\"}\n",
        "\n",
        "  pair_trade = 'FTT/USD'          #@param {type:\"string\"}\n",
        "  Asset_RB   = 'FTT'              #@param {type:\"string\"}\n",
        "\n",
        "  Rebalance_mark = 2000           #@param \n",
        "  Rebalance_percent = 1           #@param \n",
        "\n",
        "####################################################\n",
        "  exchange = ccxt.ftx  ({\n",
        "    'apiKey' : apiKey ,'secret' : secret ,'password' : password ,'enableRateLimit': True\n",
        "  })\n",
        "  # Sub Account Check\n",
        "  if Account_name == \"\" :\n",
        "    print(\"\\n\"\"Account Name - This is Main Account\",': Broker - ',exchange)     \n",
        "  else:\n",
        "    print( \"\\n\"'Account Name - ',Account_name,': Broker - ',exchange)\n",
        "    exchange.headers = {\n",
        "      'ftx-SUBACCOUNT': Account_name,\n",
        "    }\n",
        "\n",
        "  Get_balance = exchange.fetch_balance()\n",
        "  Asset_01 = Get_balance [Asset_RB] ['total']\n",
        "  print(\"Asset 01 = \" , Asset_01,Asset_RB)\n",
        "\n",
        "  get_price     = exchange.fetch_ticker(pair_trade) \n",
        "  Average_price = (get_price ['bid'] + get_price ['ask'] )/2\n",
        "  print(\"Asset 01 = \" , Asset_01*Average_price)\n",
        "  print(\"Asset Rebalance_mark = \" , Rebalance_mark)\n",
        "\n",
        "  # มูลค่า ของ Asset\n",
        "  Asset_01_Value = Asset_01 * Average_price\n",
        "  print(\"Asset_01_Value = \" ,Asset_01_Value)\n",
        "\n",
        "  if   Asset_01_Value > (Rebalance_mark + (Rebalance_mark*Rebalance_percent/100) ) :\n",
        "    print(\"Asset_01_Value \",Asset_01_Value ,\">\", (Rebalance_mark + (Rebalance_mark*Rebalance_percent/100) ))\n",
        "    print(\"SELL\")\n",
        "    diff_sell  = Asset_01_Value - Rebalance_mark\n",
        "    print(diff_sell)\n",
        "    #exchange.create_order(pair_trade ,'market','sell',(diff_sell/Average_price))\n",
        "\n",
        "  elif Asset_01_Value < (Rebalance_mark - (Rebalance_mark*Rebalance_percent/100) ) :\n",
        "    print(\"Asset_01_Value \",Asset_01_Value ,\"<\", (Rebalance_mark - (Rebalance_mark*Rebalance_percent/100) ))\n",
        "    print(\"Buy\")\n",
        "    diff_buy  = Rebalance_mark - Asset_01_Value\n",
        "    print(diff_buy)\n",
        "    #exchange.create_order(pair_trade ,'market','buy',(diff_buy/Average_price))\n",
        "    \n",
        "  else :\n",
        "    print(\"None Trade\")\n",
        "\n",
        "  import time\n",
        "  sleep = 10 \n",
        "  print(\"Sleep\",sleep,\"sec.\")\n",
        "  time.sleep(sleep) # Delay for 1 minute (60 seconds).  \n"
      ],
      "execution_count": null,
      "outputs": [
        {
          "output_type": "stream",
          "text": [
            "\n",
            "Account Name -  FTT : Broker -  FTX\n",
            "Asset 01 =  33.01363815 FTT\n",
            "Asset 01 =  1956.2891558545498\n",
            "Asset Rebalance_mark =  2000\n",
            "Asset_01_Value =  1956.2891558545498\n",
            "Asset_01_Value  1956.2891558545498 < 1980.0\n",
            "Buy\n",
            "43.71084414545021\n",
            "Sleep 10 sec.\n",
            "\n",
            "Account Name -  FTT : Broker -  FTX\n",
            "Asset 01 =  33.01363815 FTT\n",
            "Asset 01 =  1956.767853607725\n",
            "Asset Rebalance_mark =  2000\n",
            "Asset_01_Value =  1956.767853607725\n",
            "Asset_01_Value  1956.767853607725 < 1980.0\n",
            "Buy\n",
            "43.2321463922749\n",
            "Sleep 10 sec.\n"
          ],
          "name": "stdout"
        },
        {
          "output_type": "error",
          "ename": "KeyboardInterrupt",
          "evalue": "ignored",
          "traceback": [
            "\u001b[0;31m---------------------------------------------------------------------------\u001b[0m",
            "\u001b[0;31mKeyboardInterrupt\u001b[0m                         Traceback (most recent call last)",
            "\u001b[0;32m<ipython-input-29-bc8a17bb72fc>\u001b[0m in \u001b[0;36m<module>\u001b[0;34m()\u001b[0m\n\u001b[1;32m     59\u001b[0m   \u001b[0msleep\u001b[0m \u001b[0;34m=\u001b[0m \u001b[0;36m10\u001b[0m\u001b[0;34m\u001b[0m\u001b[0;34m\u001b[0m\u001b[0m\n\u001b[1;32m     60\u001b[0m   \u001b[0mprint\u001b[0m\u001b[0;34m(\u001b[0m\u001b[0;34m\"Sleep\"\u001b[0m\u001b[0;34m,\u001b[0m\u001b[0msleep\u001b[0m\u001b[0;34m,\u001b[0m\u001b[0;34m\"sec.\"\u001b[0m\u001b[0;34m)\u001b[0m\u001b[0;34m\u001b[0m\u001b[0;34m\u001b[0m\u001b[0m\n\u001b[0;32m---> 61\u001b[0;31m   \u001b[0mtime\u001b[0m\u001b[0;34m.\u001b[0m\u001b[0msleep\u001b[0m\u001b[0;34m(\u001b[0m\u001b[0msleep\u001b[0m\u001b[0;34m)\u001b[0m \u001b[0;31m# Delay for 1 minute (60 seconds).\u001b[0m\u001b[0;34m\u001b[0m\u001b[0;34m\u001b[0m\u001b[0m\n\u001b[0m",
            "\u001b[0;31mKeyboardInterrupt\u001b[0m: "
          ]
        }
      ]
    }
  ]
}